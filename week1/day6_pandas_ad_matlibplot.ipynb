{
  "nbformat": 4,
  "nbformat_minor": 0,
  "metadata": {
    "colab": {
      "provenance": [],
      "toc_visible": true
    },
    "kernelspec": {
      "name": "python3",
      "display_name": "Python 3"
    },
    "language_info": {
      "name": "python"
    }
  },
  "cells": [
    {
      "cell_type": "markdown",
      "source": [
        "#Creating a Pandas Series"
      ],
      "metadata": {
        "id": "3qoI0UXVKgvf"
      }
    },
    {
      "cell_type": "code",
      "execution_count": 7,
      "metadata": {
        "id": "ovf94w3TKaNs",
        "colab": {
          "base_uri": "https://localhost:8080/"
        },
        "outputId": "c7f7c4a2-77c5-423c-bf5b-4a664bacc8da"
      },
      "outputs": [
        {
          "output_type": "stream",
          "name": "stdout",
          "text": [
            "Math       56\n",
            "Science    78\n",
            "Nepali     97\n",
            "English    90\n",
            "History    65\n",
            "dtype: int64\n"
          ]
        }
      ],
      "source": [
        "#1D array with labels\n",
        "import pandas as pd\n",
        "scores=pd.Series([56,78,97,90,65],index=[\"Math\",\"Science\",\"Nepali\",\"English\",\"History\"])\n",
        "print(scores)\n"
      ]
    },
    {
      "cell_type": "markdown",
      "source": [
        "#Task1:craete pandas series with values[10,20,30,40] and indices[\"A\",\"B\",\"C\",\"D\"].print series\n"
      ],
      "metadata": {
        "id": "KP-Kjb0PD78v"
      }
    },
    {
      "cell_type": "code",
      "source": [
        "values=pd.Series([10,20,30,40],index=[\"A\",\"B\",\"C\",\"D\"])\n",
        "print(values)"
      ],
      "metadata": {
        "colab": {
          "base_uri": "https://localhost:8080/"
        },
        "id": "3vctq28UD-uy",
        "outputId": "35738685-ac8c-4596-fbdd-4014ad696267"
      },
      "execution_count": 8,
      "outputs": [
        {
          "output_type": "stream",
          "name": "stdout",
          "text": [
            "A    10\n",
            "B    20\n",
            "C    30\n",
            "D    40\n",
            "dtype: int64\n"
          ]
        }
      ]
    },
    {
      "cell_type": "markdown",
      "source": [
        "#Creating pandas dataframe"
      ],
      "metadata": {
        "id": "v6XUseblwt9z"
      }
    },
    {
      "cell_type": "code",
      "source": [
        "#Dataframe in table format\n",
        "#creating dictionary\n",
        "data={\n",
        "    \"Name\":[\"Aarav\",\"Bikram\",\"Cherry\"],\n",
        "    \"Age\":[15,56,12],\n",
        "    \"City\":[\"Kathmandu\",\"Delhi\",\"Tokyo\"],\n",
        "    \"Country\":[\"Nepal\",\"India\",\"Japan\"]\n",
        "}\n",
        "#Turning dictionary into dataframe\n",
        "df=pd.DataFrame(data)\n",
        "print(df)\n",
        "#Print dataframe without index\n",
        "print(df.to_string(index=False))\n",
        "\n"
      ],
      "metadata": {
        "id": "2vDS2t3FimES",
        "colab": {
          "base_uri": "https://localhost:8080/"
        },
        "outputId": "f9f6ba43-a9e8-4370-ab9d-e290b900cfce"
      },
      "execution_count": 6,
      "outputs": [
        {
          "output_type": "stream",
          "name": "stdout",
          "text": [
            "     Name  Age       City Country\n",
            "0   Aarav   15  Kathmandu   Nepal\n",
            "1  Bikram   56      Delhi   India\n",
            "2  Cherry   12      Tokyo   Japan\n",
            "  Name  Age      City Country\n",
            " Aarav   15 Kathmandu   Nepal\n",
            "Bikram   56     Delhi   India\n",
            "Cherry   12     Tokyo   Japan\n"
          ]
        }
      ]
    },
    {
      "cell_type": "markdown",
      "source": [
        "#Task2:Craete Dataframe with columns \"ciy\"([\"Paris\",\"Tokyo\",\"Sydney\"]) and \"population\" ([2.1,37.4,5.3]).print the DataFrame\n"
      ],
      "metadata": {
        "id": "59twJRxQD1Bf"
      }
    },
    {
      "cell_type": "code",
      "source": [
        "\n",
        "data1={\n",
        "    \"city\":[\"Paris\",\"Tokyo\",\"Sydney\"],\n",
        "    \"populatiom\":[2.1,37.4,5.3]\n",
        "}\n",
        "#Turning dictionary into dataframe\n",
        "df=pd.DataFrame(data1)\n",
        "print(df)\n",
        "#Print dataframe without index\n",
        "print(df.to_string(index=False))\n",
        "\n"
      ],
      "metadata": {
        "colab": {
          "base_uri": "https://localhost:8080/"
        },
        "id": "UmzWxmzQD399",
        "outputId": "4302e6a1-7397-4853-c154-bf6ce27a0c95"
      },
      "execution_count": 5,
      "outputs": [
        {
          "output_type": "stream",
          "name": "stdout",
          "text": [
            "     city  populatiom\n",
            "0   Paris         2.1\n",
            "1   Tokyo        37.4\n",
            "2  Sydney         5.3\n",
            "  city  populatiom\n",
            " Paris         2.1\n",
            " Tokyo        37.4\n",
            "Sydney         5.3\n"
          ]
        }
      ]
    },
    {
      "cell_type": "markdown",
      "source": [
        "#Filtering data in Dataframe"
      ],
      "metadata": {
        "id": "LO1uFvvezf1I"
      }
    },
    {
      "cell_type": "code",
      "source": [
        "data={\n",
        "    \"Name\":[\"Aarav\",\"Bikram\",\"Cherry\"],\n",
        "    \"Age\":[15,56,12],\n",
        "    \"City\":[\"Kathmandu\",\"Delhi\",\"Tokyo\"],\n",
        "    \"Country\":[\"Nepal\",\"India\",\"Japan\"]\n",
        "}\n",
        "#Turning dictionary into dataframe\n",
        "df=pd.DataFrame(data)\n",
        "\n",
        "#filtering\n",
        "filter=df[df[\"Age\"]<25]\n",
        "print(filter)\n"
      ],
      "metadata": {
        "colab": {
          "base_uri": "https://localhost:8080/"
        },
        "id": "swczLFZSxwsz",
        "outputId": "1e711836-d8fa-48e6-f9ea-5d166360bf8f"
      },
      "execution_count": null,
      "outputs": [
        {
          "output_type": "stream",
          "name": "stdout",
          "text": [
            "     Name  Age       City Country\n",
            "0   Aarav   15  Kathmandu   Nepal\n",
            "2  Cherry   12      Tokyo   Japan\n"
          ]
        }
      ]
    },
    {
      "cell_type": "markdown",
      "source": [
        "#Task3:Craete Dataframe with columns \"Name\"([\"EVE\",\"Frank\",\"Grace\"]) and \"Age\"([19,23,20]).filter row where age is greater than 20 and print the result\n",
        "\n"
      ],
      "metadata": {
        "id": "lrD5X8fAEEYs"
      }
    },
    {
      "cell_type": "code",
      "source": [
        "df = pd.DataFrame({\n",
        "    'Name': ['EVE', 'Frank', 'Grace'],\n",
        "    'Age': [19, 23, 20]\n",
        "})\n",
        "filtered_df = df[df['Age'] > 20]\n",
        "\n",
        "print(filtered_df)\n"
      ],
      "metadata": {
        "colab": {
          "base_uri": "https://localhost:8080/"
        },
        "id": "0NsuHFq2EG-F",
        "outputId": "ce5f652f-3cb7-4215-b689-1807b2eb7adf"
      },
      "execution_count": 10,
      "outputs": [
        {
          "output_type": "stream",
          "name": "stdout",
          "text": [
            "    Name  Age\n",
            "1  Frank   23\n"
          ]
        }
      ]
    },
    {
      "cell_type": "markdown",
      "source": [
        "#Reading and Processing a"
      ],
      "metadata": {
        "id": "f28OB7pk0W4r"
      }
    },
    {
      "cell_type": "code",
      "source": [
        "import io\n",
        "#creating csv file\n",
        "csv_data=\"\"\"\n",
        "Name,Grade\n",
        "Shusil,1\n",
        "Arpan,2\n",
        "Rohit,3\n",
        "\n",
        "\"\"\"\n",
        "\n",
        "#reading csv file\n",
        "df=pd.read_csv(io.StringIO(csv_data))\n",
        "\n",
        "#calculate average grade\n",
        "ave_grade=df['Grade'].mean()\n",
        "print(ave_grade)\n",
        "print(df)\n"
      ],
      "metadata": {
        "colab": {
          "base_uri": "https://localhost:8080/"
        },
        "id": "R6vex7igz27z",
        "outputId": "fafafd54-df3e-4c51-a378-7c9a42d2cce7"
      },
      "execution_count": null,
      "outputs": [
        {
          "output_type": "stream",
          "name": "stdout",
          "text": [
            "2.0\n",
            "     Name  Grade\n",
            "0  Shusil      1\n",
            "1   Arpan      2\n",
            "2   Rohit      3\n"
          ]
        }
      ]
    },
    {
      "cell_type": "markdown",
      "source": [
        "\n",
        "#Task4:Simulate a csv string with columns \"Product\" ([\"Apple\",\"Banana\",\"Orange\"]) and \"Price\" ([1.0,0.5,0.75]).read it into a dataframe and print the sum of prices uing df['price].sum()"
      ],
      "metadata": {
        "id": "0Ki9UZWMEQiv"
      }
    },
    {
      "cell_type": "code",
      "source": [
        "from io import StringIO\n",
        "\n",
        "csv_data = \"\"\"Product,Price\n",
        "Apple,1.0\n",
        "Banana,0.5\n",
        "Orange,0.75\n",
        "\"\"\"\n",
        "\n",
        "df = pd.read_csv(StringIO(csv_data))\n",
        "print(\"Total Price:\", df['Price'].sum())\n"
      ],
      "metadata": {
        "colab": {
          "base_uri": "https://localhost:8080/"
        },
        "id": "u9W52-OzETMU",
        "outputId": "3aa36985-27db-4c31-9dde-8a84ed8b6c74"
      },
      "execution_count": 11,
      "outputs": [
        {
          "output_type": "stream",
          "name": "stdout",
          "text": [
            "Total Price: 2.25\n"
          ]
        }
      ]
    },
    {
      "cell_type": "markdown",
      "source": [
        "#Basic plotting with Matplotlib"
      ],
      "metadata": {
        "id": "f2pN5ck02R4W"
      }
    },
    {
      "cell_type": "code",
      "source": [
        "import matplotlib.pyplot as plt\n",
        "\n",
        "x = [-5,-4,-3,-2,-1,0,1,2,3,4,5]\n",
        "y = [25,16,9,4,1,0,1,4,9,16,25]\n",
        "plt.title(\"Parabola\")\n",
        "plt.xlabel(\"x\")\n",
        "plt.ylabel(\"y\")\n",
        "\n",
        "plt.grid(True)\n",
        "plt.savefig(\"Parabola.png\")\n",
        "\n",
        "plt.plot(x,y)\n"
      ],
      "metadata": {
        "id": "BSXUX2Q3phYH",
        "colab": {
          "base_uri": "https://localhost:8080/",
          "height": 490
        },
        "outputId": "a5e1a48c-ef44-4738-f95c-807e2ea6e7c2"
      },
      "execution_count": 1,
      "outputs": [
        {
          "output_type": "execute_result",
          "data": {
            "text/plain": [
              "[<matplotlib.lines.Line2D at 0x7ce1405a5b90>]"
            ]
          },
          "metadata": {},
          "execution_count": 1
        },
        {
          "output_type": "display_data",
          "data": {
            "text/plain": [
              "<Figure size 640x480 with 1 Axes>"
            ],
            "image/png": "[encoded data removed]"
          },
          "metadata": {}
        }
      ]
    },
    {
      "cell_type": "markdown",
      "source": [
        "\n",
        "# Task 5: Create a line plot with x-values [0, 1, 2, 3] and y-values [0, 1, 4, 9]. Add a title, labels, and grid, then save it as squareplot.png."
      ],
      "metadata": {
        "id": "LnZxGCD3DIKF"
      }
    },
    {
      "cell_type": "code",
      "source": [
        "import matplotlib.pyplot as plt\n",
        "x = [0, 1, 2, 3]\n",
        "y = [0, 1, 4, 9]\n",
        "\n",
        "\n",
        "plt.plot(x, y, marker='o')\n",
        "plt.title('Square Numbers Plot')\n",
        "plt.xlabel('X Values')\n",
        "plt.ylabel('Y = X^2')\n",
        "\n",
        "plt.grid(True)\n",
        "plt.savefig('squareplot.png')\n",
        "plt.show()"
      ],
      "metadata": {
        "colab": {
          "base_uri": "https://localhost:8080/",
          "height": 472
        },
        "id": "lZBFWvrBDPqa",
        "outputId": "1ccedf72-71d0-4217-f8f6-7cdee24dd700"
      },
      "execution_count": 2,
      "outputs": [
        {
          "output_type": "display_data",
          "data": {
            "text/plain": [
              "<Figure size 640x480 with 1 Axes>"
            ],
            "image/png": "[encoded data removed]"
          },
          "metadata": {}
        }
      ]
    },
    {
      "cell_type": "markdown",
      "source": [
        "# Task 6: Create a DataFrame\n",
        " Create a DataFrame with columns ”City” ([”London”, ”Paris”,\n",
        " ”Tokyo”]) and ”Population” ([9.0, 2.1, 37.4]). Create a bar plot\n",
        " of Population vs. City, add labels and a title, and save it as populationplot.png.\n",
        "\n"
      ],
      "metadata": {
        "id": "W1EMV2Xl73Sw"
      }
    },
    {
      "cell_type": "code",
      "source": [
        "df = pd.DataFrame({\n",
        "    'City': ['London', 'Paris', 'Tokyo'],\n",
        "    'Population': [9.0, 2.1, 37.4]\n",
        "})\n",
        "\n",
        "plt.bar(df['City'], df['Population'], color='skyblue')\n",
        "\n",
        "plt.title('City Population')\n",
        "plt.xlabel('City')\n",
        "plt.ylabel('Population (millions)')\n",
        "plt.savefig('populationplot.png')\n",
        "plt.show()\n"
      ],
      "metadata": {
        "id": "dZUUh7sG2odH",
        "colab": {
          "base_uri": "https://localhost:8080/",
          "height": 472
        },
        "outputId": "3830595f-af23-4ee0-f1d1-cfa224858f51"
      },
      "execution_count": 4,
      "outputs": [
        {
          "output_type": "display_data",
          "data": {
            "text/plain": [
              "<Figure size 640x480 with 1 Axes>"
            ],
            "image/png": "[encoded data removed]"
          },
          "metadata": {}
        }
      ]
    }
  ]
}