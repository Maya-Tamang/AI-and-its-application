{
  "nbformat": 4,
  "nbformat_minor": 0,
  "metadata": {
    "colab": {
      "provenance": []
    },
    "kernelspec": {
      "name": "python3",
      "display_name": "Python 3"
    },
    "language_info": {
      "name": "python"
    }
  },
  "cells": [
    {
      "cell_type": "markdown",
      "source": [],
      "metadata": {
        "id": "RtnGAj758Rpn"
      }
    },
    {
      "cell_type": "markdown",
      "source": [
        "#Age Calculator"
      ],
      "metadata": {
        "id": "2rbkXFTw8VO6"
      }
    },
    {
      "cell_type": "code",
      "execution_count": null,
      "metadata": {
        "colab": {
          "base_uri": "https://localhost:8080/"
        },
        "id": "FUTwNPzl8F1F",
        "outputId": "9527606b-d0ff-47b9-e716-00f7e662c300"
      },
      "outputs": [
        {
          "output_type": "stream",
          "name": "stdout",
          "text": [
            "Enter your birth year: 1994\n",
            "You are 31 years old.\n"
          ]
        }
      ],
      "source": [
        "birth_year = int(input(\"Enter your birth year: \"))\n",
        "\n",
        "current_year = 2025\n",
        "age = current_year - birth_year\n",
        "\n",
        "print(f\"You are {age} years old.\")\n"
      ]
    },
    {
      "cell_type": "markdown",
      "source": [
        "#Simple Interest Calculator"
      ],
      "metadata": {
        "id": "_jeYCvT-9O3O"
      }
    },
    {
      "cell_type": "code",
      "source": [
        "principal = int(input(\"Enter the principal amount: \"))\n",
        "rate = float(input(\"Enter the rate of interest: \"))\n",
        "time = float(input(\"Enter the time in years: \"))\n",
        "\n",
        "simple_interest = (principal * rate * time) / 100\n",
        "\n",
        "print(f\"Simple Interest = Rs.{simple_interest}\")\n"
      ],
      "metadata": {
        "colab": {
          "base_uri": "https://localhost:8080/"
        },
        "id": "k3dRj4hA86Eh",
        "outputId": "41a08712-d0b7-4033-b1ed-4a0d19108bf4"
      },
      "execution_count": null,
      "outputs": [
        {
          "output_type": "stream",
          "name": "stdout",
          "text": [
            "Enter the principal amount: 5000\n",
            "Enter the rate of interest: 25\n",
            "Enter the time in years: 2\n",
            "Simple Interest = Rs.2500.0\n"
          ]
        }
      ]
    },
    {
      "cell_type": "markdown",
      "source": [
        "#BMI Calculator"
      ],
      "metadata": {
        "id": "Dcx90rY9-Z6p"
      }
    },
    {
      "cell_type": "code",
      "source": [
        "weight = float(input(\"Enter your weight in kg: \"))\n",
        "height = float(input(\"Enter your height in meters: \"))\n",
        "\n",
        "bmi = weight / (height * height)\n",
        "\n",
        "if bmi < 18.5:\n",
        "    category = \"Underweight\"\n",
        "elif bmi < 25:\n",
        "    category = \"Normal weight\"\n",
        "elif bmi < 30:\n",
        "    category = \"Overweight\"\n",
        "else:\n",
        "    category = \"Obese\"\n",
        "\n",
        "print(f\"Your BMI is:{bmi}\")\n",
        "print(f\"Category:{category}\")\n"
      ],
      "metadata": {
        "colab": {
          "base_uri": "https://localhost:8080/"
        },
        "id": "Z9oqA6vP90xf",
        "outputId": "fef211d6-c1a2-4997-904c-4f2415c4bb26"
      },
      "execution_count": null,
      "outputs": [
        {
          "output_type": "stream",
          "name": "stdout",
          "text": [
            "Enter your weight in kg: 45\n",
            "Enter your height in meters: 1.6002\n",
            "Your BMI is:17.5737312925873\n",
            "Category:Underweight\n"
          ]
        }
      ]
    },
    {
      "cell_type": "markdown",
      "source": [
        "#Currency Converter"
      ],
      "metadata": {
        "id": "iVP8MaydATGm"
      }
    },
    {
      "cell_type": "code",
      "source": [
        "nepali_rs = float(input(\"Enter amount in NPR: \"))\n",
        "\n",
        "exchange_rate = 132\n",
        "usd_amount =  nepali_rs/ exchange_rate\n",
        "\n",
        "print(f\"Equivalent in USD: ${usd_amount}\")\n"
      ],
      "metadata": {
        "colab": {
          "base_uri": "https://localhost:8080/"
        },
        "id": "indxqB-y_Hpn",
        "outputId": "8a0f72b4-4533-4e9e-c7d6-ab25b6d56a38"
      },
      "execution_count": null,
      "outputs": [
        {
          "output_type": "stream",
          "name": "stdout",
          "text": [
            "Enter amount in NPR: 500\n",
            "Equivalent in USD: $3.787878787878788\n"
          ]
        }
      ]
    },
    {
      "cell_type": "code",
      "source": [],
      "metadata": {
        "id": "9RkLpgv_Avx3"
      },
      "execution_count": null,
      "outputs": []
    }
  ]
}