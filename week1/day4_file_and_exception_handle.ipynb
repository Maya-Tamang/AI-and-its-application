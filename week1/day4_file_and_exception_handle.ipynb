{
  "nbformat": 4,
  "nbformat_minor": 0,
  "metadata": {
    "colab": {
      "provenance": [],
      "toc_visible": true
    },
    "kernelspec": {
      "name": "python3",
      "display_name": "Python 3"
    },
    "language_info": {
      "name": "python"
    }
  },
  "cells": [
    {
      "cell_type": "markdown",
      "source": [
        "#**File Handling -> read**"
      ],
      "metadata": {
        "id": "zbjV3vtNAfg-"
      }
    },
    {
      "cell_type": "code",
      "execution_count": null,
      "metadata": {
        "colab": {
          "base_uri": "https://localhost:8080/"
        },
        "id": "DjSwd111AZTK",
        "outputId": "b6f6b741-884a-4304-954a-fc11a4cdba86"
      },
      "outputs": [
        {
          "output_type": "stream",
          "name": "stdout",
          "text": [
            "AI Cla\n"
          ]
        }
      ],
      "source": [
        "#opening and reading a file\n",
        "\n",
        "f=open(\"/content/sample_data/test.txt\",\"r\")\n",
        "# print(f.read())\n",
        "print(f.read(6))\n",
        "\n",
        "f.close()"
      ]
    },
    {
      "cell_type": "code",
      "source": [
        "#readline() in file handling\n",
        "\n",
        "f=open(\"/content/sample_data/test.txt\",\"r\")\n",
        "print(f.readline())\n",
        "f.close()"
      ],
      "metadata": {
        "colab": {
          "base_uri": "https://localhost:8080/"
        },
        "id": "RhqmVO_-BlkV",
        "outputId": "5d23b6ae-5f12-4fd9-ef01-65cea6e29802"
      },
      "execution_count": null,
      "outputs": [
        {
          "output_type": "stream",
          "name": "stdout",
          "text": [
            "AI Class- Seepmela\n",
            "\n"
          ]
        }
      ]
    },
    {
      "cell_type": "code",
      "source": [
        "#readlines() in file handling\n",
        "\n",
        "f=open(\"/content/sample_data/test.txt\",\"r\")\n",
        "print(f.readlines())\n",
        "f.close()"
      ],
      "metadata": {
        "colab": {
          "base_uri": "https://localhost:8080/"
        },
        "id": "Csa-xVoCCbxo",
        "outputId": "e1bf4220-f377-4267-de29-237f5da8bb3d"
      },
      "execution_count": null,
      "outputs": [
        {
          "output_type": "stream",
          "name": "stdout",
          "text": [
            "['AI Class- Seepmela.I am student here.\\n', 'this is python sessionsss']\n"
          ]
        }
      ]
    },
    {
      "cell_type": "code",
      "source": [
        "#With operation\n",
        "with open(\"/content/sample_data/test.txt\",\"r\") as f:\n",
        "  print(f.read())"
      ],
      "metadata": {
        "colab": {
          "base_uri": "https://localhost:8080/"
        },
        "id": "WJk-LCH0C8IG",
        "outputId": "6c1404e4-1f8c-4983-f627-82a13ea91b7c"
      },
      "execution_count": null,
      "outputs": [
        {
          "output_type": "stream",
          "name": "stdout",
          "text": [
            "AI Class- Seepmela.I am student here.\n",
            "this is python sessionsss\n"
          ]
        }
      ]
    },
    {
      "cell_type": "markdown",
      "source": [
        "#File write Operation"
      ],
      "metadata": {
        "id": "QBQAh1H7EEXp"
      }
    },
    {
      "cell_type": "code",
      "source": [
        "f=open(\"/content/sample_data/test.txt\",\"w\")\n",
        "f.write(\"I am writing this file\")\n",
        "f.close()"
      ],
      "metadata": {
        "id": "1MBwOweHDf5M"
      },
      "execution_count": null,
      "outputs": []
    },
    {
      "cell_type": "code",
      "source": [
        "#with\n",
        "with open(\"/content/sample_data/test.txt\",\"w\") as f:\n",
        "  f.write(\"I am writing this file using with.\")\n",
        "  f.close()"
      ],
      "metadata": {
        "id": "PiF8LXBuEUIp"
      },
      "execution_count": null,
      "outputs": []
    },
    {
      "cell_type": "markdown",
      "source": [
        "# Appending to a file"
      ],
      "metadata": {
        "id": "ueuBvw1eFP6f"
      }
    },
    {
      "cell_type": "code",
      "source": [
        "f=open(\"/content/sample_data/test.txt\",\"a\")\n",
        "f.write(\"\\nThis is appending text in file\")\n",
        "f.close()"
      ],
      "metadata": {
        "id": "g7xOZrpDE-sp"
      },
      "execution_count": null,
      "outputs": []
    },
    {
      "cell_type": "markdown",
      "source": [
        "#Deleting a file/folder"
      ],
      "metadata": {
        "id": "o65hx--0QzoL"
      }
    },
    {
      "cell_type": "code",
      "source": [
        "\n",
        "import os\n",
        "os.remove(\"/content/sample_data/test.txt\")#removing file\n",
        "\n",
        "# os.rmdir(\"\")\n",
        "\n"
      ],
      "metadata": {
        "id": "geMoKDZ3Q3nZ"
      },
      "execution_count": null,
      "outputs": []
    },
    {
      "cell_type": "markdown",
      "source": [
        "#Exception handling"
      ],
      "metadata": {
        "id": "kW24Z3aLScmq"
      }
    },
    {
      "cell_type": "code",
      "source": [
        "a=7\n",
        "try:\n",
        "  # print(b)\n",
        "  print(a)\n",
        "except NameError:\n",
        "  print(\"Name error exception occured.\")"
      ],
      "metadata": {
        "colab": {
          "base_uri": "https://localhost:8080/"
        },
        "id": "NzxFEe2ASggF",
        "outputId": "8bd4ed07-11e4-445f-f23e-45404672ab97"
      },
      "execution_count": 9,
      "outputs": [
        {
          "output_type": "stream",
          "name": "stdout",
          "text": [
            "7\n"
          ]
        }
      ]
    },
    {
      "cell_type": "markdown",
      "source": [
        "#class work -File handling"
      ],
      "metadata": {
        "id": "1KIuS9quF1yZ"
      }
    },
    {
      "cell_type": "code",
      "source": [
        "#Reading file\n",
        "# try:\n",
        "#   f=open(\"/content/sample_data/data.txt\",\"r\")\n",
        "#   print(f.readlines())\n",
        "#   f.close()\n",
        "# except FileNotFoundError:\n",
        "#   print(\"File not found!\")\n",
        "\n",
        "#Writing to a file\n",
        "# try:\n",
        "#     name = input(\"Enter your name: \")\n",
        "\n",
        "#     if not name.strip():\n",
        "#         raise ValueError(\"Name cannot be empty!\")\n",
        "\n",
        "#     with open(\"/content/sample_data/user.txt\", \"w\") as f:\n",
        "#         f.write(name)\n",
        "\n",
        "# except ValueError as ve:\n",
        "#     print(\"Value Error:\", ve)\n",
        "\n",
        "# except IOError as ioe:\n",
        "#     print(\"File Error:\", ioe)\n",
        "\n",
        "# except Exception as e:\n",
        "#     print(\"An unexpected error occurred:\", e)\n",
        "\n",
        "#Counting words in file\n",
        "# try:\n",
        "#     with open(\"/content/sample_data/story.txt\", \"r\") as f:\n",
        "#         content = f.read()\n",
        "#         words = content.split(\",\")\n",
        "#         word_count = len(content)\n",
        "#         print(\"Words:\", words)\n",
        "#         print(\"Total words:\", word_count)\n",
        "\n",
        "# except FileNotFoundError:\n",
        "#     print(\"Error: File not found!\")\n",
        "\n",
        "# finally:\n",
        "#     print(\"Finished!!.\")\n",
        "\n",
        "\n",
        "#Appending to a filez\n",
        "try:\n",
        "    note= input(\"Enter some notes: \")\n",
        "    with open(\"/content/sample_data/note.txt\", \"a\") as f:\n",
        "        f.write(note)\n",
        "\n",
        "except ValueError:\n",
        "    print(\"Value Error:\")\n",
        "\n"
      ],
      "metadata": {
        "id": "dUeJko6hFfnV",
        "colab": {
          "base_uri": "https://localhost:8080/"
        },
        "outputId": "544b55c6-960e-45d7-8d04-453de839c527"
      },
      "execution_count": null,
      "outputs": [
        {
          "name": "stdout",
          "output_type": "stream",
          "text": [
            "Enter some notes: hi this is a note form user\n"
          ]
        }
      ]
    },
    {
      "cell_type": "code",
      "source": [],
      "metadata": {
        "id": "lxYNAEaDJEDB"
      },
      "execution_count": null,
      "outputs": []
    }
  ]
}