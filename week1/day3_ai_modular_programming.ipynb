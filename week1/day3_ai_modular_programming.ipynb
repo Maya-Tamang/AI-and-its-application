{
  "nbformat": 4,
  "nbformat_minor": 0,
  "metadata": {
    "colab": {
      "provenance": [],
      "toc_visible": true
    },
    "kernelspec": {
      "name": "python3",
      "display_name": "Python 3"
    },
    "language_info": {
      "name": "python"
    }
  },
  "cells": [
    {
      "cell_type": "markdown",
      "source": [
        "#Python Module"
      ],
      "metadata": {
        "id": "MMnzoYP110ou"
      }
    },
    {
      "cell_type": "code",
      "execution_count": null,
      "metadata": {
        "id": "EIj1c8_O1tTR",
        "colab": {
          "base_uri": "https://localhost:8080/"
        },
        "outputId": "7f7f23ee-5b14-4629-8d36-f25c53069bf6"
      },
      "outputs": [
        {
          "output_type": "stream",
          "name": "stdout",
          "text": [
            "5\n"
          ]
        }
      ],
      "source": [
        "#importing math module\n",
        "import math\n",
        "square_root=math.sqrt(25)\n",
        "print(int(square_root))"
      ]
    },
    {
      "cell_type": "markdown",
      "source": [
        "#Flooring and ceiling in python module"
      ],
      "metadata": {
        "id": "OLBT3aPDMAhY"
      }
    },
    {
      "cell_type": "code",
      "source": [
        "floor=math.floor(3.7)\n",
        "print(f\"the flooring of 3.7 is :{floor}\")\n",
        "\n",
        "ceiling=math.ceil(3.7)\n",
        "print(f\"The ciling of 3.7 is:{ceiling}\")"
      ],
      "metadata": {
        "colab": {
          "base_uri": "https://localhost:8080/"
        },
        "id": "sL2PjiQcMIou",
        "outputId": "5896081d-a8f3-4b24-f4df-829b5fefd00f"
      },
      "execution_count": null,
      "outputs": [
        {
          "output_type": "stream",
          "name": "stdout",
          "text": [
            "the flooring of 3.7 is :3\n",
            "The ciling of 3.7 is:4\n"
          ]
        }
      ]
    },
    {
      "cell_type": "markdown",
      "source": [
        "#Module alaising"
      ],
      "metadata": {
        "id": "8F_z7SMtMAft"
      }
    },
    {
      "cell_type": "code",
      "source": [
        "# import matplotlib.pyplot as plt\n",
        "# plt.plot([1,2,4,6,8,9,3],[2,3,4,5,])"
      ],
      "metadata": {
        "id": "QzvgWL6qM3aM"
      },
      "execution_count": null,
      "outputs": []
    },
    {
      "cell_type": "markdown",
      "source": [
        "#Variable alaising"
      ],
      "metadata": {
        "id": "434v14nMNUxg"
      }
    },
    {
      "cell_type": "code",
      "source": [
        "a=[1,2,3,4]\n",
        "print(a)\n",
        "\n",
        "\n",
        "b=a\n",
        "b.append(5)\n",
        "print(a)\n",
        "\n",
        "print(b)\n"
      ],
      "metadata": {
        "colab": {
          "base_uri": "https://localhost:8080/"
        },
        "id": "6SZiddvrNQvL",
        "outputId": "88b893ef-0862-4426-fb11-b2636e500c73"
      },
      "execution_count": null,
      "outputs": [
        {
          "output_type": "stream",
          "name": "stdout",
          "text": [
            "[1, 2, 3, 4]\n",
            "[1, 2, 3, 4, 5]\n",
            "[1, 2, 3, 4, 5]\n"
          ]
        }
      ]
    },
    {
      "cell_type": "markdown",
      "source": [
        "#Homework:Function/method alaising"
      ],
      "metadata": {
        "id": "Y7oEQ0emNxtx"
      }
    },
    {
      "cell_type": "markdown",
      "source": [
        "#Random module in python"
      ],
      "metadata": {
        "id": "LlsGLDnwOIPX"
      }
    },
    {
      "cell_type": "code",
      "source": [
        "import random as rnd\n",
        "print(rnd.randint(1,10))#generate random number between 1 and 10"
      ],
      "metadata": {
        "colab": {
          "base_uri": "https://localhost:8080/"
        },
        "id": "KduCeBd1Np1M",
        "outputId": "0c537845-6833-4288-e0f3-5e7b4f4fe630"
      },
      "execution_count": null,
      "outputs": [
        {
          "output_type": "stream",
          "name": "stdout",
          "text": [
            "10\n"
          ]
        }
      ]
    },
    {
      "cell_type": "code",
      "source": [
        "random_float=rnd.random()\n",
        "print(random_float)"
      ],
      "metadata": {
        "colab": {
          "base_uri": "https://localhost:8080/"
        },
        "id": "-FeYkafkOi2O",
        "outputId": "5c0a89be-ff54-4612-cb2d-8c7471915eff"
      },
      "execution_count": null,
      "outputs": [
        {
          "output_type": "stream",
          "name": "stdout",
          "text": [
            "0.9143646037191503\n"
          ]
        }
      ]
    },
    {
      "cell_type": "code",
      "source": [
        "random_float_in_range=rnd.uniform(10.5,30.5)\n",
        "print(random_float_in_range)"
      ],
      "metadata": {
        "colab": {
          "base_uri": "https://localhost:8080/"
        },
        "id": "LR3bqJyZPN7L",
        "outputId": "b4ce5348-e88a-4486-9d49-0a87d9118ef5"
      },
      "execution_count": null,
      "outputs": [
        {
          "output_type": "stream",
          "name": "stdout",
          "text": [
            "24.278471120512734\n"
          ]
        }
      ]
    },
    {
      "cell_type": "markdown",
      "source": [
        "#Explore more module"
      ],
      "metadata": {
        "id": "XtVHg9mYPwdd"
      }
    },
    {
      "cell_type": "markdown",
      "source": [
        "#Custom module"
      ],
      "metadata": {
        "id": "GOk5ZVnJP3HI"
      }
    },
    {
      "cell_type": "code",
      "source": [
        "#heplerd.py\n",
        "%%writefile helperd.py\n",
        "def sum(a,b):\n",
        "  return a+b\n"
      ],
      "metadata": {
        "colab": {
          "base_uri": "https://localhost:8080/"
        },
        "id": "Vr06CqgYProe",
        "outputId": "db29e553-0888-4f38-d96d-8f6831b95a89"
      },
      "execution_count": null,
      "outputs": [
        {
          "output_type": "stream",
          "name": "stdout",
          "text": [
            "Writing helperd.py\n"
          ]
        }
      ]
    },
    {
      "cell_type": "code",
      "source": [
        "#main.py\n",
        "import helperd\n",
        "result = helperd.sum(3,9)\n",
        "print(f\"The addition between a and b is :{result}\")"
      ],
      "metadata": {
        "colab": {
          "base_uri": "https://localhost:8080/"
        },
        "id": "CRAxDxNVQUTr",
        "outputId": "f15aa850-45f5-48f7-c55e-4ea1b97ce402"
      },
      "execution_count": null,
      "outputs": [
        {
          "output_type": "stream",
          "name": "stdout",
          "text": [
            "The addition between a and b is :12\n"
          ]
        }
      ]
    },
    {
      "cell_type": "markdown",
      "source": [
        "#Class work:"
      ],
      "metadata": {
        "id": "FxG_Mvi0RukU"
      }
    },
    {
      "cell_type": "markdown",
      "source": [
        "Add a subtract function to helper.py and use it to subtract 5\n",
        "from 10. Add another divisor function to helper.py and use it to divide\n",
        "between 2 numbers of your choice."
      ],
      "metadata": {
        "id": "xRj14D9V1hWm"
      }
    },
    {
      "cell_type": "code",
      "source": [
        "#helperm.p\n",
        "%%writefile helperm.py\n",
        "\n",
        "\n",
        "def div(a,b):\n",
        "   return a/b\n"
      ],
      "metadata": {
        "colab": {
          "base_uri": "https://localhost:8080/"
        },
        "id": "IJxEduwnUra2",
        "outputId": "2fbaab25-0382-4a1a-846c-929d4aa16d37"
      },
      "execution_count": null,
      "outputs": [
        {
          "output_type": "stream",
          "name": "stdout",
          "text": [
            "Overwriting helperm.py\n"
          ]
        }
      ]
    },
    {
      "cell_type": "code",
      "source": [
        "#main.py\n",
        "import helperm\n",
        "\n",
        "\n",
        "result3 = helperm.div(3,9)\n",
        "print(f\" division by a from b is :{result3}\")"
      ],
      "metadata": {
        "colab": {
          "base_uri": "https://localhost:8080/"
        },
        "id": "1dQ8SO812KUB",
        "outputId": "f49a6b8d-be89-4eb2-d3c3-9ffc9ef50a4c"
      },
      "execution_count": null,
      "outputs": [
        {
          "output_type": "stream",
          "name": "stdout",
          "text": [
            " division by a from b is :0.3333333333333333\n"
          ]
        }
      ]
    },
    {
      "cell_type": "code",
      "source": [
        "#helperp.p\n",
        "%%writefile helperp.py\n",
        "def substraction(a,b):\n",
        "  return a-b\n"
      ],
      "metadata": {
        "colab": {
          "base_uri": "https://localhost:8080/"
        },
        "id": "LD0ebHtM1v2G",
        "outputId": "683c656c-6e70-4695-e029-1688e196c7b0"
      },
      "execution_count": null,
      "outputs": [
        {
          "output_type": "stream",
          "name": "stdout",
          "text": [
            "Writing helperp.py\n"
          ]
        }
      ]
    },
    {
      "cell_type": "code",
      "source": [
        "#main.py\n",
        "import helperp\n",
        "\n",
        "result1 = helperp.substraction(10,5)\n",
        "print(f\"The substaction between a and b is :{result1}\")\n"
      ],
      "metadata": {
        "colab": {
          "base_uri": "https://localhost:8080/"
        },
        "id": "ADqFzsNF2CHL",
        "outputId": "cc2c6a45-2c73-4c3c-eec4-4fdc8be0f986"
      },
      "execution_count": null,
      "outputs": [
        {
          "output_type": "stream",
          "name": "stdout",
          "text": [
            "The substaction between a and b is :5\n"
          ]
        }
      ]
    },
    {
      "cell_type": "code",
      "source": [
        "#helperq.p\n",
        "%%writefile helperq.py\n",
        "\n",
        "def mul(a,b):\n",
        "  return a*b"
      ],
      "metadata": {
        "colab": {
          "base_uri": "https://localhost:8080/"
        },
        "id": "U81PZd7F11wP",
        "outputId": "ff4cec42-518a-422d-ee14-bc7becbfd24d"
      },
      "execution_count": null,
      "outputs": [
        {
          "output_type": "stream",
          "name": "stdout",
          "text": [
            "Writing helperq.py\n"
          ]
        }
      ]
    },
    {
      "cell_type": "code",
      "source": [
        "#main.py\n",
        "import helperq\n",
        "\n",
        "result2 = helperq.mul(3,9)\n",
        "print(f\"The multiplication of a and b is :{result2}\")\n"
      ],
      "metadata": {
        "colab": {
          "base_uri": "https://localhost:8080/"
        },
        "id": "WdDN1IPJU5fS",
        "outputId": "9f3a7dd5-f9a0-4c3d-c609-0598b3d8637d"
      },
      "execution_count": null,
      "outputs": [
        {
          "output_type": "stream",
          "name": "stdout",
          "text": [
            "The multiplication of a and b is :27\n"
          ]
        }
      ]
    },
    {
      "cell_type": "code",
      "source": [
        "'''Import shuffle from random, create a list [10, 20, 30, 40], shuffle it\n",
        "and print.'''\n",
        "\n",
        "from random import shuffle\n",
        "num_list=[10, 20, 30, 40]\n",
        "shuffle(num_list)\n",
        "print(num_list)"
      ],
      "metadata": {
        "colab": {
          "base_uri": "https://localhost:8080/"
        },
        "id": "2beiUFcuQdQI",
        "outputId": "38a0fefd-7ad3-44ca-99f3-24e15f50b603"
      },
      "execution_count": null,
      "outputs": [
        {
          "output_type": "stream",
          "name": "stdout",
          "text": [
            "[40, 30, 10, 20]\n"
          ]
        }
      ]
    },
    {
      "cell_type": "markdown",
      "source": [
        "#Assigment:day3"
      ],
      "metadata": {
        "id": "3XPts4On3tCU"
      }
    },
    {
      "cell_type": "code",
      "source": [
        "#import math and calculate sin of 30 degree  using math.sin(math.radians(30))\n",
        "import math\n",
        "print(math.sin(math.radians(30)))\n"
      ],
      "metadata": {
        "id": "OVXVh7LATnTL",
        "colab": {
          "base_uri": "https://localhost:8080/"
        },
        "outputId": "76dba2d6-5b52-4375-803b-079205b46641"
      },
      "execution_count": null,
      "outputs": [
        {
          "output_type": "stream",
          "name": "stdout",
          "text": [
            "0.49999999999999994\n"
          ]
        }
      ]
    },
    {
      "cell_type": "code",
      "source": [
        "#Import random as rng and generate a random integer between 50-75.\n",
        "import random as rng\n",
        "random_number = rng.randint(50, 75)\n",
        "print(f\"Random number is: {random_number}\")\n"
      ],
      "metadata": {
        "colab": {
          "base_uri": "https://localhost:8080/"
        },
        "id": "nDTajHbQ4M6M",
        "outputId": "2f838239-e5b5-440f-d8f0-73751c534de7"
      },
      "execution_count": null,
      "outputs": [
        {
          "output_type": "stream",
          "name": "stdout",
          "text": [
            "Random number is: 61\n"
          ]
        }
      ]
    },
    {
      "cell_type": "code",
      "source": [
        "#Create calc.py with square function, import and print square of 8\n",
        "#calc.py\n",
        "%%writefile calc.py\n",
        "def square(n):\n",
        "    return n * n"
      ],
      "metadata": {
        "colab": {
          "base_uri": "https://localhost:8080/"
        },
        "id": "5bNzC7t84vEo",
        "outputId": "bf2332d2-8334-4f23-bad7-1c59389b841c"
      },
      "execution_count": null,
      "outputs": [
        {
          "output_type": "stream",
          "name": "stdout",
          "text": [
            "Writing calc.py\n"
          ]
        }
      ]
    },
    {
      "cell_type": "code",
      "source": [
        "#main.py\n",
        "from calc import square\n",
        "print(\"Square of 8 is:\", square(8))\n"
      ],
      "metadata": {
        "colab": {
          "base_uri": "https://localhost:8080/"
        },
        "id": "H2GlkFfj5MF-",
        "outputId": "fd147a0d-844f-4639-a8ea-c41bb1e28406"
      },
      "execution_count": null,
      "outputs": [
        {
          "output_type": "stream",
          "name": "stdout",
          "text": [
            "Square of 8 is: 64\n"
          ]
        }
      ]
    },
    {
      "cell_type": "code",
      "source": [
        "#Import choice from random, pick from fruit list,[\"mango\",\" apple\", \" grape\"]\n",
        "from random import choice\n",
        "\n",
        "fruits = [\"mango\", \" apple\", \" grape\"]\n",
        "random_fruit = choice(fruits)\n",
        "\n",
        "print(\"Randomly selected fruit:\", random_fruit)\n"
      ],
      "metadata": {
        "colab": {
          "base_uri": "https://localhost:8080/"
        },
        "id": "_gQGddVs5SMe",
        "outputId": "b67228b0-4909-4b7b-a2b3-38c63ff7f359"
      },
      "execution_count": null,
      "outputs": [
        {
          "output_type": "stream",
          "name": "stdout",
          "text": [
            "Randomly selected fruit: mango\n"
          ]
        }
      ]
    },
    {
      "cell_type": "code",
      "source": [],
      "metadata": {
        "id": "R178EK0k_nXm"
      },
      "execution_count": null,
      "outputs": []
    }
  ]
}