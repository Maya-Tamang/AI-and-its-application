{
  "nbformat": 4,
  "nbformat_minor": 0,
  "metadata": {
    "colab": {
      "provenance": [],
      "toc_visible": true
    },
    "kernelspec": {
      "name": "python3",
      "display_name": "Python 3"
    },
    "language_info": {
      "name": "python"
    }
  },
  "cells": [
    {
      "cell_type": "markdown",
      "source": [
        "#**AI Class**"
      ],
      "metadata": {
        "id": "yz5Y-ZydwhJc"
      }
    },
    {
      "cell_type": "code",
      "execution_count": null,
      "metadata": {
        "colab": {
          "base_uri": "https://localhost:8080/"
        },
        "id": "q80lgf_ArUUN",
        "outputId": "b655542a-80fc-4e03-dfbd-e1ecf8e98a91"
      },
      "outputs": [
        {
          "output_type": "stream",
          "name": "stdout",
          "text": [
            "AI day2 class \n"
          ]
        }
      ],
      "source": [
        "print(\"AI day2 class \")"
      ]
    },
    {
      "cell_type": "markdown",
      "source": [],
      "metadata": {
        "id": "S7gPYuC5CuyD"
      }
    },
    {
      "cell_type": "markdown",
      "source": [
        "#Function in Python"
      ],
      "metadata": {
        "id": "KKpCvFz-w_Uy"
      }
    },
    {
      "cell_type": "code",
      "source": [
        "def area_of_square(num):\n",
        "  return num*num\n",
        "print(f\"Area is {area_of_square(6)}\")\n",
        "print(f\"Area is {area_of_square(7)}\")"
      ],
      "metadata": {
        "colab": {
          "base_uri": "https://localhost:8080/"
        },
        "id": "n0uBB4dpwMa-",
        "outputId": "70b63024-06ef-4dbe-a414-56e715b3701a"
      },
      "execution_count": null,
      "outputs": [
        {
          "output_type": "stream",
          "name": "stdout",
          "text": [
            "Area is 36\n",
            "Area is 49\n"
          ]
        }
      ]
    },
    {
      "cell_type": "markdown",
      "source": [
        "#Homework:Find area of circle"
      ],
      "metadata": {
        "id": "144zTicRyZx7"
      }
    },
    {
      "cell_type": "code",
      "source": [
        "radius = float(input(\"Enter the radius of the circle: \"))\n",
        "\n",
        "pi = 3.1416\n",
        "area = pi * radius * radius\n",
        "\n",
        "print(f\"Area of the circle is:{area}\")\n"
      ],
      "metadata": {
        "colab": {
          "base_uri": "https://localhost:8080/"
        },
        "id": "WbaOSwY6Btxz",
        "outputId": "f407155a-3548-44b6-99df-59cd62fd056d"
      },
      "execution_count": null,
      "outputs": [
        {
          "output_type": "stream",
          "name": "stdout",
          "text": [
            "Enter the radius of the circle: 7\n",
            "Area of the circle is:153.9384\n"
          ]
        }
      ]
    },
    {
      "cell_type": "markdown",
      "source": [
        "#List in python"
      ],
      "metadata": {
        "id": "TjNGi78Lyy02"
      }
    },
    {
      "cell_type": "code",
      "source": [
        "#list of fruits\n",
        "fruits=[\"apple\",\"banana\",\"kiwi\",\"orange\",\"strawbery\"]\n",
        "\n",
        "#accessing elements\n",
        "# print(fruits[0]) #accesing first elements\n",
        "# print(fruits[4]) #accessing 5th elements\n",
        "# print(fruits[-1]) #accessing last elements\n",
        "\n",
        "\n",
        "#adding an elements from list\n",
        "fruits.append(\"mango\")\n",
        "print(fruits)\n",
        "\n",
        "# removing elements from list\n",
        "fruits.remove(\"orange\")\n",
        "print(fruits)\n",
        "\n"
      ],
      "metadata": {
        "colab": {
          "base_uri": "https://localhost:8080/"
        },
        "id": "Hb7eFhwPxbr7",
        "outputId": "68013f16-387b-4090-f097-c5ffd97c43b4"
      },
      "execution_count": null,
      "outputs": [
        {
          "output_type": "stream",
          "name": "stdout",
          "text": [
            "['apple', 'banana', 'kiwi', 'orange', 'strawbery', 'mango']\n",
            "['apple', 'banana', 'kiwi', 'strawbery', 'mango']\n"
          ]
        }
      ]
    },
    {
      "cell_type": "markdown",
      "source": [
        "Tuples in python(Home-task)"
      ],
      "metadata": {
        "id": "mvEeo-3m6R4L"
      }
    },
    {
      "cell_type": "code",
      "source": [
        "from types import MappingProxyType\n",
        "#creating tuples\n",
        "numbers = (10, 20, 30,40,20)\n",
        "mixed = (1, \"apple\", 3.14,\"Kathmandu\")\n",
        "\n",
        "# print(type(numbers))\n",
        "\n",
        "# fruits = (\"apple\",)\n",
        "# print(type(fruits))\n",
        "\n",
        "#Accessing Tuple Elements\n",
        "# print(numbers[0])\n",
        "# print(mixed[1])\n",
        "# print(mixed[-1])\n",
        "\n",
        "#Loop Through a Tuple\n",
        "# for item in numbers:\n",
        "#     print(item)\n",
        "\n",
        "#tuples in method\n",
        "# print(numbers.count(20))\n",
        "# print(mixed.index(3.14))\n",
        "# print(len(mixed))\n",
        "\n",
        "#add item in tuples-> can convert it into a list, add your item(s), and convert it back into a tuple\n",
        "# number_list= list(numbers)\n",
        "# number_list.append(\"70\")\n",
        "# numbers = tuple(number_list)\n",
        "# print(numbers)\n",
        "\n",
        "\n",
        "#del keyword in tuples\n",
        "# del mixed\n",
        "# print(mixed) #this will raise an error because the tuple no longer exists"
      ],
      "metadata": {
        "id": "Z5bp8ocECs4F"
      },
      "execution_count": null,
      "outputs": []
    },
    {
      "cell_type": "markdown",
      "source": [
        "#Sets in python(Home task)"
      ],
      "metadata": {
        "id": "hNfeqq7d6WwA"
      }
    },
    {
      "cell_type": "code",
      "source": [
        "my_set = {1, 2, 3, 4}\n",
        "print(my_set)\n",
        "\n",
        "#set() constructor:\n",
        "another_set = set([3, 4, 5,5])\n",
        "print(another_set)#Sets automatically remove duplicate values\n",
        "\n",
        "#add Elements\n",
        "my_set.add(5)\n",
        "print(my_set)\n",
        "\n",
        "#Remove Elements\n",
        "my_set.remove(2)\n",
        "my_set.discard(10)\n",
        "\n",
        "#Check Membership\n",
        "print(3 in my_set)\n",
        "\n",
        "#Set Operations\n",
        "a = {1, 2, 3, 4}\n",
        "b = {3, 4, 5, 6}\n",
        "\n",
        "#Union –> Combine both sets\n",
        "print(a | b)\n",
        "print(a.union(b))\n",
        "\n",
        "#Intersection –>Common elements\n",
        "\n",
        "print(a & b)\n",
        "print(a.intersection(b))\n",
        "\n",
        "#Difference –>Elements in a but not in b\n",
        "\n",
        "print(a - b)\n",
        "print(a.difference(b))\n",
        "\n",
        "#Symmetric Difference –> Elements in a or b but not both\n",
        "\n",
        "print(a ^ b)\n",
        "print(a.symmetric_difference(b))\n"
      ],
      "metadata": {
        "colab": {
          "base_uri": "https://localhost:8080/"
        },
        "id": "V7aRTUOxGW0_",
        "outputId": "eddd7a98-6372-4e32-db49-29b47fe51c36"
      },
      "execution_count": null,
      "outputs": [
        {
          "output_type": "stream",
          "name": "stdout",
          "text": [
            "{1, 2, 3, 4}\n",
            "{3, 4, 5}\n",
            "{1, 2, 3, 4, 5}\n",
            "True\n",
            "{1, 2, 3, 4, 5, 6}\n",
            "{1, 2, 3, 4, 5, 6}\n",
            "{3, 4}\n",
            "{3, 4}\n",
            "{1, 2}\n",
            "{1, 2}\n",
            "{1, 2, 5, 6}\n",
            "{1, 2, 5, 6}\n"
          ]
        }
      ]
    },
    {
      "cell_type": "markdown",
      "source": [
        "#Dictionaries in python"
      ],
      "metadata": {
        "id": "3xyVfCgM6urF"
      }
    },
    {
      "cell_type": "code",
      "source": [
        "#creating a Dictionary\n",
        "student={\n",
        "    \"name\":\"Maya Tamang\",\n",
        "    \"age\":21,\n",
        "    \"course\" : \"AI and its application\"\n",
        "}\n",
        "#accessing value of particular key in student dictionary\n",
        "print(student[\"age\"])\n",
        "\n",
        "#updating value of particular key in dictionary\n",
        "student[\"age\"]=22\n",
        "print(student[\"age\"])\n",
        "\n",
        "#adding new key-value pair on dictionary\n",
        "student[\"address\"]=\"Baudha\"\n",
        "print(student)\n",
        "\n",
        "#removing a key value pair from dictionary\n",
        "del student[\"course\"]\n",
        "print(student)\n"
      ],
      "metadata": {
        "colab": {
          "base_uri": "https://localhost:8080/"
        },
        "id": "DYyLAorO6WHM",
        "outputId": "19748013-04de-433e-d822-4afb398db49b"
      },
      "execution_count": null,
      "outputs": [
        {
          "output_type": "stream",
          "name": "stdout",
          "text": [
            "21\n",
            "22\n",
            "{'name': 'Maya Tamang', 'age': 22, 'course': 'AI and its application', 'address': 'Baudha'}\n",
            "{'name': 'Maya Tamang', 'age': 22, 'address': 'Baudha'}\n"
          ]
        }
      ]
    },
    {
      "cell_type": "markdown",
      "source": [
        "#**Class Task**"
      ],
      "metadata": {
        "id": "JV3NyWGu-EdH"
      }
    },
    {
      "cell_type": "code",
      "source": [
        "#build a tool that converts temperature between celsius and fahrenheit\n",
        "temperature_celsius = float(input(\"Enter temperature in Celsius: \"))\n",
        "\n",
        "def celsius_to_fahrenheit(celsius):\n",
        "    return (celsius * 9/5) + 32\n",
        "\n",
        "\n",
        "temperature_fahrenheit = celsius_to_fahrenheit(temperature_celsius)\n",
        "\n",
        "print(f\"{temperature_celsius} degree Celcious is equal to {temperature_fahrenheit} degree Fahrenheit\")\n"
      ],
      "metadata": {
        "colab": {
          "base_uri": "https://localhost:8080/"
        },
        "id": "EMTP6m4y7-5N",
        "outputId": "8bb7bf98-ba92-4aa9-bb16-847c88826324"
      },
      "execution_count": null,
      "outputs": [
        {
          "output_type": "stream",
          "name": "stdout",
          "text": [
            "Enter temperature in Celsius: 20\n",
            "20.0 degree Celcious is equal to 68.0 degree Fahrenheit\n"
          ]
        }
      ]
    },
    {
      "cell_type": "markdown",
      "source": [
        "#String manipulation in python"
      ],
      "metadata": {
        "id": "YwwqCdXMH8d4"
      }
    },
    {
      "cell_type": "code",
      "source": [
        "#creating variable text that contains leading and trailing spaces\n",
        "text=\"  Hello Python  \"\n",
        "print(text)\n",
        "\n",
        "#.lower() in python\n",
        "print(text.lower())\n",
        "\n",
        "#.strip() in python to remove whitespace\n",
        "print(text.strip())\n",
        "\n",
        "#.replace() to replace\n",
        "print(text.replace(\"Python\",\"Java\"))\n",
        "\n",
        "#splitting in string\n",
        "splitted=text.strip().split() #function/method chaining\n",
        "print(splitted)\n",
        "\n",
        "# joining in string\n",
        "joined=\"-\".join(splitted) #join with (-)\n",
        "print(joined)"
      ],
      "metadata": {
        "id": "OrlAKaba_trS",
        "colab": {
          "base_uri": "https://localhost:8080/"
        },
        "outputId": "b0dbed4b-83b3-4ee1-96d1-579472efc154"
      },
      "execution_count": null,
      "outputs": [
        {
          "output_type": "stream",
          "name": "stdout",
          "text": [
            "  Hello Python  \n",
            "  hello python  \n",
            "Hello Python\n",
            "  Hello Java  \n",
            "['Hello', 'Python']\n",
            "Hello-Python\n"
          ]
        }
      ]
    },
    {
      "cell_type": "code",
      "source": [],
      "metadata": {
        "id": "4QiMOBeIJND1"
      },
      "execution_count": null,
      "outputs": []
    }
  ]
}